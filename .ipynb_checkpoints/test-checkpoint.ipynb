{
 "cells": [
  {
   "cell_type": "code",
   "execution_count": 13,
   "metadata": {
    "pycharm": {
     "name": "#%%\n"
    }
   },
   "outputs": [
    {
     "data": {
      "text/plain": [
       "20    True\n",
       "21    True\n",
       "22    True\n",
       "23    True\n",
       "24    True\n",
       "Name: datarate, dtype: bool"
      ]
     },
     "execution_count": 13,
     "metadata": {},
     "output_type": "execute_result"
    }
   ],
   "source": [
    "import pandas as pd\n",
    "from pandas import DataFrame, Series\n",
    "\n",
    "csv_database = pd.read_csv('data_crawler/data/csv/fx6_database.csv')\n",
    "csv_database_res = csv_database[csv_database['resolution'] == '4K UHD (3840 x 2160)']\n",
    "csv_database_codec = csv_database_res[csv_database_res['codec'] == 'ProRes RAW']\n",
    "csv_database_sampling = csv_database_codec[csv_database_codec['sampling'] == '']\n",
    "csv_database_framerate = csv_database_sampling[csv_database_sampling['framerate'] == '50p']\n",
    "\n",
    "csv_database_codec['datarate'].isnull()\n"
   ]
  },
  {
   "cell_type": "code",
   "execution_count": 14,
   "metadata": {
    "pycharm": {
     "name": "#%%\n"
    }
   },
   "outputs": [
    {
     "data": {
      "text/plain": [
       "Index(['Unnamed: 0', 'sensor mode', 'resolution', 'codec', 'sampling',\n",
       "       'framerate', 'aspect ratio', 'bit depth', 'datarate', '128GB',\n",
       "       'file format', 'media type', 'comment', 'Unnamed: 12'],\n",
       "      dtype='object')"
      ]
     },
     "execution_count": 14,
     "metadata": {},
     "output_type": "execute_result"
    }
   ],
   "source": [
    "import re\n",
    "\n",
    "df.columns"
   ]
  },
  {
   "cell_type": "code",
   "execution_count": 17,
   "metadata": {
    "pycharm": {
     "name": "#%%\n"
    }
   },
   "outputs": [],
   "source": [
    "old_columns_names = Series(df.columns)"
   ]
  },
  {
   "cell_type": "code",
   "execution_count": 18,
   "metadata": {
    "pycharm": {
     "name": "#%%\n"
    }
   },
   "outputs": [
    {
     "data": {
      "text/plain": [
       "0       Unnamed: 0\n",
       "1      sensor mode\n",
       "2       resolution\n",
       "3            codec\n",
       "4         sampling\n",
       "5        framerate\n",
       "6     aspect ratio\n",
       "7        bit depth\n",
       "8         datarate\n",
       "9            128GB\n",
       "10     file format\n",
       "11      media type\n",
       "12         comment\n",
       "13     Unnamed: 12\n",
       "dtype: object"
      ]
     },
     "execution_count": 18,
     "metadata": {},
     "output_type": "execute_result"
    }
   ],
   "source": [
    "old_columns_names"
   ]
  },
  {
   "cell_type": "code",
   "execution_count": 21,
   "metadata": {
    "pycharm": {
     "name": "#%%\n"
    }
   },
   "outputs": [
    {
     "data": {
      "text/html": [
       "<div>\n",
       "<style scoped>\n",
       "    .dataframe tbody tr th:only-of-type {\n",
       "        vertical-align: middle;\n",
       "    }\n",
       "\n",
       "    .dataframe tbody tr th {\n",
       "        vertical-align: top;\n",
       "    }\n",
       "\n",
       "    .dataframe thead th {\n",
       "        text-align: right;\n",
       "    }\n",
       "</style>\n",
       "<table border=\"1\" class=\"dataframe\">\n",
       "  <thead>\n",
       "    <tr style=\"text-align: right;\">\n",
       "      <th></th>\n",
       "      <th>sensor mode</th>\n",
       "      <th>resolution</th>\n",
       "      <th>codec</th>\n",
       "      <th>sampling</th>\n",
       "      <th>framerate</th>\n",
       "      <th>aspect ratio</th>\n",
       "      <th>bit depth</th>\n",
       "      <th>file format</th>\n",
       "    </tr>\n",
       "  </thead>\n",
       "  <tbody>\n",
       "    <tr>\n",
       "      <th>0</th>\n",
       "      <td>FF</td>\n",
       "      <td>4K DCI (4096 x 2160)</td>\n",
       "      <td>ProRes RAW HQ</td>\n",
       "      <td>NaN</td>\n",
       "      <td>60p</td>\n",
       "      <td>17:9</td>\n",
       "      <td>12 bit</td>\n",
       "      <td>MOV</td>\n",
       "    </tr>\n",
       "    <tr>\n",
       "      <th>1</th>\n",
       "      <td>FF</td>\n",
       "      <td>4K DCI (4096 x 2160)</td>\n",
       "      <td>ProRes RAW HQ</td>\n",
       "      <td>NaN</td>\n",
       "      <td>50p</td>\n",
       "      <td>17:9</td>\n",
       "      <td>12 bit</td>\n",
       "      <td>MOV</td>\n",
       "    </tr>\n",
       "    <tr>\n",
       "      <th>2</th>\n",
       "      <td>FF</td>\n",
       "      <td>4K DCI (4096 x 2160)</td>\n",
       "      <td>ProRes RAW HQ</td>\n",
       "      <td>NaN</td>\n",
       "      <td>30p</td>\n",
       "      <td>17:9</td>\n",
       "      <td>12 bit</td>\n",
       "      <td>MOV</td>\n",
       "    </tr>\n",
       "    <tr>\n",
       "      <th>3</th>\n",
       "      <td>FF</td>\n",
       "      <td>4K DCI (4096 x 2160)</td>\n",
       "      <td>ProRes RAW HQ</td>\n",
       "      <td>NaN</td>\n",
       "      <td>25p</td>\n",
       "      <td>17:9</td>\n",
       "      <td>12 bit</td>\n",
       "      <td>MOV</td>\n",
       "    </tr>\n",
       "    <tr>\n",
       "      <th>4</th>\n",
       "      <td>FF</td>\n",
       "      <td>4K DCI (4096 x 2160)</td>\n",
       "      <td>ProRes RAW HQ</td>\n",
       "      <td>NaN</td>\n",
       "      <td>24p</td>\n",
       "      <td>17:9</td>\n",
       "      <td>12 bit</td>\n",
       "      <td>MOV</td>\n",
       "    </tr>\n",
       "  </tbody>\n",
       "</table>\n",
       "</div>"
      ],
      "text/plain": [
       "  sensor mode            resolution          codec sampling framerate  \\\n",
       "0          FF  4K DCI (4096 x 2160)  ProRes RAW HQ      NaN       60p   \n",
       "1          FF  4K DCI (4096 x 2160)  ProRes RAW HQ      NaN       50p   \n",
       "2          FF  4K DCI (4096 x 2160)  ProRes RAW HQ      NaN       30p   \n",
       "3          FF  4K DCI (4096 x 2160)  ProRes RAW HQ      NaN       25p   \n",
       "4          FF  4K DCI (4096 x 2160)  ProRes RAW HQ      NaN       24p   \n",
       "\n",
       "  aspect ratio bit depth file format  \n",
       "0         17:9    12 bit         MOV  \n",
       "1         17:9    12 bit         MOV  \n",
       "2         17:9    12 bit         MOV  \n",
       "3         17:9    12 bit         MOV  \n",
       "4         17:9    12 bit         MOV  "
      ]
     },
     "execution_count": 21,
     "metadata": {},
     "output_type": "execute_result"
    }
   ],
   "source": [
    "df = pd.read_csv('data_crawler/data/csv/fx6_database.csv', usecols=[1, 2, 3, 4, 5, 6, 7, 10])\n",
    "df.head()"
   ]
  },
  {
   "cell_type": "code",
   "execution_count": null,
   "metadata": {
    "pycharm": {
     "name": "#%%\n"
    }
   },
   "outputs": [],
   "source": []
  }
 ],
 "metadata": {
  "kernelspec": {
   "display_name": "Python 3 (ipykernel)",
   "language": "python",
   "name": "python3"
  },
  "language_info": {
   "codemirror_mode": {
    "name": "ipython",
    "version": 3
   },
   "file_extension": ".py",
   "mimetype": "text/x-python",
   "name": "python",
   "nbconvert_exporter": "python",
   "pygments_lexer": "ipython3",
   "version": "3.9.12"
  }
 },
 "nbformat": 4,
 "nbformat_minor": 1
}
