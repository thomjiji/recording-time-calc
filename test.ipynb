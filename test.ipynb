{
 "cells": [
  {
   "cell_type": "markdown",
   "source": [
    "# fx6 database"
   ],
   "metadata": {
    "collapsed": false,
    "pycharm": {
     "name": "#%% md\n"
    }
   }
  },
  {
   "cell_type": "code",
   "execution_count": null,
   "outputs": [],
   "source": [
    "import pandas as pd\n",
    "from pandas import Series, DataFrame"
   ],
   "metadata": {
    "collapsed": false,
    "pycharm": {
     "name": "#%%\n"
    }
   }
  },
  {
   "cell_type": "code",
   "execution_count": 34,
   "outputs": [
    {
     "data": {
      "text/plain": "0     sensor mode\n1      resolution\n2           codec\n3        sampling\n4       framerate\n5    aspect ratio\n6       bit depth\n7        datarate\n8     file format\ndtype: object"
     },
     "execution_count": 34,
     "metadata": {},
     "output_type": "execute_result"
    }
   ],
   "source": [
    "df_fx6 = pd.read_csv('data_crawler/data/csv/fx6_database.csv', usecols=['sensor mode', 'resolution', 'codec', 'sampling', 'framerate', 'aspect ratio', 'bit depth', 'file format', 'datarate'])\n",
    "df_fx6.fillna(0, inplace=True)\n",
    "df_fx6"
   ],
   "metadata": {
    "collapsed": false,
    "pycharm": {
     "name": "#%%\n"
    }
   }
  },
  {
   "cell_type": "markdown",
   "source": [
    "# gh5m2 database"
   ],
   "metadata": {
    "collapsed": false,
    "pycharm": {
     "name": "#%% md\n"
    }
   }
  },
  {
   "cell_type": "code",
   "execution_count": 28,
   "outputs": [
    {
     "data": {
      "text/plain": "               resolution    codec sampling framerate aspect ratio bit depth  \\\n0    6K ANA (4992 x 3744)  LongGOP    4:2:0       30p          4:3    10 bit   \n1    6K ANA (4992 x 3744)  LongGOP    4:2:0       25p          4:3    10 bit   \n2    6K ANA (4992 x 3744)  LongGOP    4:2:0       24p          4:3    10 bit   \n3    4K DCI (4096 x 2160)    ALL-I    4:2:2       30p         17:9    10 bit   \n4    4K DCI (4096 x 2160)    ALL-I    4:2:2       25p         17:9    10 bit   \n..                    ...      ...      ...       ...          ...       ...   \n142      HD (1920 x 1080)  LongGOP    4:2:0       60p         16:9     8 bit   \n143      HD (1920 x 1080)  LongGOP    4:2:0       50p         16:9     8 bit   \n144      HD (1920 x 1080)  LongGOP    4:2:0       30p         16:9     8 bit   \n145      HD (1920 x 1080)  LongGOP    4:2:0       25p         16:9     8 bit   \n146      HD (1920 x 1080)  LongGOP    4:2:0       24p         16:9     8 bit   \n\n     datarate file format  \n0    200 Mb/s         MOV  \n1    200 Mb/s         MOV  \n2    200 Mb/s         MOV  \n3    400 Mb/s         MOV  \n4    400 Mb/s         MOV  \n..        ...         ...  \n142   28 Mb/s         MP4  \n143   28 Mb/s         MP4  \n144   20 Mb/s         MP4  \n145   20 Mb/s         MP4  \n146   24 Mb/s         MP4  \n\n[147 rows x 8 columns]",
      "text/html": "<div>\n<style scoped>\n    .dataframe tbody tr th:only-of-type {\n        vertical-align: middle;\n    }\n\n    .dataframe tbody tr th {\n        vertical-align: top;\n    }\n\n    .dataframe thead th {\n        text-align: right;\n    }\n</style>\n<table border=\"1\" class=\"dataframe\">\n  <thead>\n    <tr style=\"text-align: right;\">\n      <th></th>\n      <th>resolution</th>\n      <th>codec</th>\n      <th>sampling</th>\n      <th>framerate</th>\n      <th>aspect ratio</th>\n      <th>bit depth</th>\n      <th>datarate</th>\n      <th>file format</th>\n    </tr>\n  </thead>\n  <tbody>\n    <tr>\n      <th>0</th>\n      <td>6K ANA (4992 x 3744)</td>\n      <td>LongGOP</td>\n      <td>4:2:0</td>\n      <td>30p</td>\n      <td>4:3</td>\n      <td>10 bit</td>\n      <td>200 Mb/s</td>\n      <td>MOV</td>\n    </tr>\n    <tr>\n      <th>1</th>\n      <td>6K ANA (4992 x 3744)</td>\n      <td>LongGOP</td>\n      <td>4:2:0</td>\n      <td>25p</td>\n      <td>4:3</td>\n      <td>10 bit</td>\n      <td>200 Mb/s</td>\n      <td>MOV</td>\n    </tr>\n    <tr>\n      <th>2</th>\n      <td>6K ANA (4992 x 3744)</td>\n      <td>LongGOP</td>\n      <td>4:2:0</td>\n      <td>24p</td>\n      <td>4:3</td>\n      <td>10 bit</td>\n      <td>200 Mb/s</td>\n      <td>MOV</td>\n    </tr>\n    <tr>\n      <th>3</th>\n      <td>4K DCI (4096 x 2160)</td>\n      <td>ALL-I</td>\n      <td>4:2:2</td>\n      <td>30p</td>\n      <td>17:9</td>\n      <td>10 bit</td>\n      <td>400 Mb/s</td>\n      <td>MOV</td>\n    </tr>\n    <tr>\n      <th>4</th>\n      <td>4K DCI (4096 x 2160)</td>\n      <td>ALL-I</td>\n      <td>4:2:2</td>\n      <td>25p</td>\n      <td>17:9</td>\n      <td>10 bit</td>\n      <td>400 Mb/s</td>\n      <td>MOV</td>\n    </tr>\n    <tr>\n      <th>...</th>\n      <td>...</td>\n      <td>...</td>\n      <td>...</td>\n      <td>...</td>\n      <td>...</td>\n      <td>...</td>\n      <td>...</td>\n      <td>...</td>\n    </tr>\n    <tr>\n      <th>142</th>\n      <td>HD (1920 x 1080)</td>\n      <td>LongGOP</td>\n      <td>4:2:0</td>\n      <td>60p</td>\n      <td>16:9</td>\n      <td>8 bit</td>\n      <td>28 Mb/s</td>\n      <td>MP4</td>\n    </tr>\n    <tr>\n      <th>143</th>\n      <td>HD (1920 x 1080)</td>\n      <td>LongGOP</td>\n      <td>4:2:0</td>\n      <td>50p</td>\n      <td>16:9</td>\n      <td>8 bit</td>\n      <td>28 Mb/s</td>\n      <td>MP4</td>\n    </tr>\n    <tr>\n      <th>144</th>\n      <td>HD (1920 x 1080)</td>\n      <td>LongGOP</td>\n      <td>4:2:0</td>\n      <td>30p</td>\n      <td>16:9</td>\n      <td>8 bit</td>\n      <td>20 Mb/s</td>\n      <td>MP4</td>\n    </tr>\n    <tr>\n      <th>145</th>\n      <td>HD (1920 x 1080)</td>\n      <td>LongGOP</td>\n      <td>4:2:0</td>\n      <td>25p</td>\n      <td>16:9</td>\n      <td>8 bit</td>\n      <td>20 Mb/s</td>\n      <td>MP4</td>\n    </tr>\n    <tr>\n      <th>146</th>\n      <td>HD (1920 x 1080)</td>\n      <td>LongGOP</td>\n      <td>4:2:0</td>\n      <td>24p</td>\n      <td>16:9</td>\n      <td>8 bit</td>\n      <td>24 Mb/s</td>\n      <td>MP4</td>\n    </tr>\n  </tbody>\n</table>\n<p>147 rows × 8 columns</p>\n</div>"
     },
     "execution_count": 28,
     "metadata": {},
     "output_type": "execute_result"
    }
   ],
   "source": [
    "df_gh5m2 = pd.read_csv('data_crawler/data/csv/gh5m2_database.csv', usecols=['resolution', 'codec', 'sampling', 'framerate', 'aspect ratio', 'bit depth', 'file format', 'datarate'])\n",
    "df_gh5m2"
   ],
   "metadata": {
    "collapsed": false,
    "pycharm": {
     "name": "#%%\n"
    }
   }
  },
  {
   "cell_type": "code",
   "execution_count": 36,
   "outputs": [],
   "source": [
    "df_gh5m2 = pd.read_csv('data_crawler/data/csv/gh5m2_database.csv')\n",
    "df_fx6 = pd.read_csv('data_crawler/data/csv/fx6_database.csv')"
   ],
   "metadata": {
    "collapsed": false,
    "pycharm": {
     "name": "#%%\n"
    }
   }
  },
  {
   "cell_type": "code",
   "execution_count": 37,
   "outputs": [
    {
     "data": {
      "text/plain": "0       Unnamed: 0\n1       resolution\n2            codec\n3         sampling\n4        framerate\n5            128GB\n6     aspect ratio\n7        bit depth\n8         datarate\n9      file format\n10      media type\n11         comment\n12     Unnamed: 11\ndtype: object"
     },
     "execution_count": 37,
     "metadata": {},
     "output_type": "execute_result"
    }
   ],
   "source": [
    "Series(df_gh5m2.columns)"
   ],
   "metadata": {
    "collapsed": false,
    "pycharm": {
     "name": "#%%\n"
    }
   }
  },
  {
   "cell_type": "code",
   "execution_count": 38,
   "outputs": [
    {
     "data": {
      "text/plain": "0       Unnamed: 0\n1      sensor mode\n2       resolution\n3            codec\n4         sampling\n5        framerate\n6     aspect ratio\n7        bit depth\n8         datarate\n9            128GB\n10     file format\n11      media type\n12         comment\n13     Unnamed: 12\ndtype: object"
     },
     "execution_count": 38,
     "metadata": {},
     "output_type": "execute_result"
    }
   ],
   "source": [
    "Series(df_fx6.columns)"
   ],
   "metadata": {
    "collapsed": false,
    "pycharm": {
     "name": "#%%\n"
    }
   }
  },
  {
   "cell_type": "code",
   "execution_count": null,
   "outputs": [],
   "source": [],
   "metadata": {
    "collapsed": false,
    "pycharm": {
     "name": "#%%\n"
    }
   }
  }
 ],
 "metadata": {
  "kernelspec": {
   "display_name": "Python 3 (ipykernel)",
   "language": "python",
   "name": "python3"
  },
  "language_info": {
   "codemirror_mode": {
    "name": "ipython",
    "version": 3
   },
   "file_extension": ".py",
   "mimetype": "text/x-python",
   "name": "python",
   "nbconvert_exporter": "python",
   "pygments_lexer": "ipython3",
   "version": "3.9.12"
  }
 },
 "nbformat": 4,
 "nbformat_minor": 1
}