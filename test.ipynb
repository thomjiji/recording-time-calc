{
 "cells": [
  {
   "cell_type": "code",
   "execution_count": 73,
   "outputs": [
    {
     "data": {
      "text/plain": "    Unnamed: 0 sensor mode            resolution   codec sampling framerate  \\\n28          28          FF  4K UHD (3840 x 2160)  XAVC-I    4:2:2       50p   \n\n   aspect ratio bit depth  datarate   128GB file format            media type  \\\n28         16:9    10 bit  500 Mb/s  32 min         MXF  CFexpress Type A, SD   \n\n   comment  Unnamed: 12  \n28     NaN          NaN  ",
      "text/html": "<div>\n<style scoped>\n    .dataframe tbody tr th:only-of-type {\n        vertical-align: middle;\n    }\n\n    .dataframe tbody tr th {\n        vertical-align: top;\n    }\n\n    .dataframe thead th {\n        text-align: right;\n    }\n</style>\n<table border=\"1\" class=\"dataframe\">\n  <thead>\n    <tr style=\"text-align: right;\">\n      <th></th>\n      <th>Unnamed: 0</th>\n      <th>sensor mode</th>\n      <th>resolution</th>\n      <th>codec</th>\n      <th>sampling</th>\n      <th>framerate</th>\n      <th>aspect ratio</th>\n      <th>bit depth</th>\n      <th>datarate</th>\n      <th>128GB</th>\n      <th>file format</th>\n      <th>media type</th>\n      <th>comment</th>\n      <th>Unnamed: 12</th>\n    </tr>\n  </thead>\n  <tbody>\n    <tr>\n      <th>28</th>\n      <td>28</td>\n      <td>FF</td>\n      <td>4K UHD (3840 x 2160)</td>\n      <td>XAVC-I</td>\n      <td>4:2:2</td>\n      <td>50p</td>\n      <td>16:9</td>\n      <td>10 bit</td>\n      <td>500 Mb/s</td>\n      <td>32 min</td>\n      <td>MXF</td>\n      <td>CFexpress Type A, SD</td>\n      <td>NaN</td>\n      <td>NaN</td>\n    </tr>\n  </tbody>\n</table>\n</div>"
     },
     "execution_count": 73,
     "metadata": {},
     "output_type": "execute_result"
    }
   ],
   "source": [
    "import pandas as pd\n",
    "\n",
    "a = pd.read_csv('data_crawler/data/csv/fx6_database.csv')\n",
    "b = a[a['resolution'] == '4K UHD (3840 x 2160)']\n",
    "c = b[b['codec'] == 'XAVC-I']\n",
    "d = c[c['sampling'] == '4:2:2']\n",
    "e = d[d['framerate'] == '50p']\n",
    "e"
   ],
   "metadata": {
    "collapsed": false,
    "pycharm": {
     "name": "#%%\n"
    }
   }
  },
  {
   "cell_type": "code",
   "execution_count": 74,
   "outputs": [
    {
     "data": {
      "text/plain": "0         NaN\n1         NaN\n2         NaN\n3         NaN\n4         NaN\n       ...   \n78    35 Mb/s\n79    35 Mb/s\n80    35 Mb/s\n81    35 Mb/s\n82    35 Mb/s\nName: datarate, Length: 83, dtype: object"
     },
     "execution_count": 74,
     "metadata": {},
     "output_type": "execute_result"
    }
   ],
   "source": [
    "a = pd.read_csv('data_crawler/data/csv/fx6_database.csv')\n",
    "\n",
    "a['datarate']"
   ],
   "metadata": {
    "collapsed": false,
    "pycharm": {
     "name": "#%%\n"
    }
   }
  },
  {
   "cell_type": "code",
   "execution_count": null,
   "outputs": [],
   "source": [],
   "metadata": {
    "collapsed": false,
    "pycharm": {
     "name": "#%%\n"
    }
   }
  }
 ],
 "metadata": {
  "kernelspec": {
   "display_name": "Python 3",
   "language": "python",
   "name": "python3"
  },
  "language_info": {
   "codemirror_mode": {
    "name": "ipython",
    "version": 2
   },
   "file_extension": ".py",
   "mimetype": "text/x-python",
   "name": "python",
   "nbconvert_exporter": "python",
   "pygments_lexer": "ipython2",
   "version": "2.7.6"
  }
 },
 "nbformat": 4,
 "nbformat_minor": 0
}