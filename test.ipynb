{
 "cells": [
  {
   "cell_type": "code",
   "execution_count": 135,
   "outputs": [
    {
     "data": {
      "text/plain": "20    True\n21    True\n22    True\n23    True\n24    True\nName: datarate, dtype: bool"
     },
     "execution_count": 135,
     "metadata": {},
     "output_type": "execute_result"
    }
   ],
   "source": [
    "import pandas as pd\n",
    "\n",
    "csv_database = pd.read_csv('data_crawler/data/csv/fx6_database.csv')\n",
    "csv_database_res = csv_database[csv_database['resolution'] == '4K UHD (3840 x 2160)']\n",
    "csv_database_codec = csv_database_res[csv_database_res['codec'] == 'ProRes RAW']\n",
    "csv_database_sampling = csv_database_codec[csv_database_codec['sampling'] == '']\n",
    "csv_database_framerate = csv_database_sampling[csv_database_sampling['framerate'] == '50p']\n",
    "\n",
    "csv_database_codec['datarate'].isnull()\n"
   ],
   "metadata": {
    "collapsed": false,
    "pycharm": {
     "name": "#%%\n"
    }
   }
  },
  {
   "cell_type": "code",
   "execution_count": 121,
   "outputs": [
    {
     "data": {
      "text/plain": "0     4K DCI (4096 x 2160)\n1     4K DCI (4096 x 2160)\n2     4K DCI (4096 x 2160)\n3     4K DCI (4096 x 2160)\n4     4K DCI (4096 x 2160)\n              ...         \n78        HD (1920 x 1080)\n79        HD (1920 x 1080)\n80        HD (1920 x 1080)\n81        HD (1920 x 1080)\n82        HD (1920 x 1080)\nName: resolution, Length: 83, dtype: object"
     },
     "execution_count": 121,
     "metadata": {},
     "output_type": "execute_result"
    }
   ],
   "source": [
    "import re\n",
    "csv_database = pd.read_csv('data_crawler/data/csv/fx6_database.csv')\n",
    "csv_database['resolution'].dropna()"
   ],
   "metadata": {
    "collapsed": false,
    "pycharm": {
     "name": "#%%\n"
    }
   }
  },
  {
   "cell_type": "code",
   "execution_count": 54,
   "outputs": [
    {
     "data": {
      "text/plain": "0    False\n1    False\n2     True\n3    False\ndtype: bool"
     },
     "execution_count": 54,
     "metadata": {},
     "output_type": "execute_result"
    }
   ],
   "source": [
    "import numpy as np\n",
    "string_data = pd.Series(['aardvark', 'artichoke', np.nan, 'avocado'])\n",
    "string_data.isnull()"
   ],
   "metadata": {
    "collapsed": false,
    "pycharm": {
     "name": "#%%\n"
    }
   }
  },
  {
   "cell_type": "code",
   "execution_count": null,
   "outputs": [],
   "source": [],
   "metadata": {
    "collapsed": false,
    "pycharm": {
     "name": "#%%\n"
    }
   }
  }
 ],
 "metadata": {
  "kernelspec": {
   "display_name": "Python 3",
   "language": "python",
   "name": "python3"
  },
  "language_info": {
   "codemirror_mode": {
    "name": "ipython",
    "version": 2
   },
   "file_extension": ".py",
   "mimetype": "text/x-python",
   "name": "python",
   "nbconvert_exporter": "python",
   "pygments_lexer": "ipython2",
   "version": "2.7.6"
  }
 },
 "nbformat": 4,
 "nbformat_minor": 0
}